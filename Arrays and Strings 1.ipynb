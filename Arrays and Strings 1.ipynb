{
 "cells": [
  {
   "cell_type": "markdown",
   "id": "8200fc77",
   "metadata": {},
   "source": [
    "## Reverse Traversal"
   ]
  },
  {
   "cell_type": "markdown",
   "id": "ab78d56f",
   "metadata": {},
   "source": [
    "Given an array of numbers, replace each even number with two of the same number. e.g, [1,2,5,6,8] -> [1,2,2,5,6,6,8,8]. Assume that the array has enough space to accommodate the result."
   ]
  },
  {
   "cell_type": "markdown",
   "id": "a5844d0d",
   "metadata": {},
   "source": [
    "### 1st attempt"
   ]
  },
  {
   "cell_type": "code",
   "execution_count": 1,
   "id": "8049b15f",
   "metadata": {},
   "outputs": [
    {
     "name": "stdout",
     "output_type": "stream",
     "text": [
      "[1, 2, 2, 5, 6, 6, 8, 8]\n"
     ]
    }
   ],
   "source": [
    "def getLastNumber(a):\n",
    "    i = len(a)-1\n",
    "    while a[i] == -1:\n",
    "        i -= 1\n",
    "    return i\n",
    "\n",
    "def cloneEvenNumbers(a):\n",
    "    end = len(a)\n",
    "    i = getLastNumber(a)\n",
    "    while i >= 0:\n",
    "        if a[i] % 2 == 0:\n",
    "            end -= 1\n",
    "            a[end] = a[i]\n",
    "            end -= 1\n",
    "            a[end] = a[i]\n",
    "        else:\n",
    "            end -= 1\n",
    "            a[end] = a[i]\n",
    "        i -= 1\n",
    "    print(a)\n",
    "    \n",
    "cloneEvenNumbers([1, 2, 5, 6, 8, -1, -1, -1])"
   ]
  },
  {
   "cell_type": "markdown",
   "id": "e9cf7d8e",
   "metadata": {},
   "source": [
    "In this approach, I used the reverse traversal building block to solve the problem. I initialized two pointers - one at the end of the input array and the other at the last true value of the input array (without the extra accomodation space which I assumed to be -1s). Both these pointers were decremented in such a way that the element at **i** would get copied to the index pointed to by **end** twice if it was an even number and once if an odd number. This traversal was carried out till all the elements in the input array were parsed. "
   ]
  },
  {
   "cell_type": "markdown",
   "id": "4e65d464",
   "metadata": {},
   "source": [
    "### 2nd Attempt"
   ]
  },
  {
   "cell_type": "code",
   "execution_count": 5,
   "id": "3a1c56ff",
   "metadata": {},
   "outputs": [
    {
     "name": "stdout",
     "output_type": "stream",
     "text": [
      "[2, 2]\n"
     ]
    }
   ],
   "source": [
    "def getLastNumber(a):\n",
    "    i = len(a) - 1\n",
    "    while a[i] == -1:\n",
    "        i -= 1\n",
    "    return i\n",
    "\n",
    "def cloneEvenNumbers(a):\n",
    "    end = len(a)\n",
    "    i = getLastNumber(a)\n",
    "    while i >= 0:\n",
    "        if a[i] % 2 == 0:\n",
    "            end -= 1\n",
    "            a[end] = a[i]\n",
    "            end -= 1\n",
    "            a[end] = a[i]\n",
    "        else:\n",
    "            end -= 1\n",
    "            a[end] = a[i]\n",
    "        i -= 1\n",
    "    print(a)\n",
    "    \n",
    "cloneEvenNumbers([2, -1])    "
   ]
  },
  {
   "cell_type": "markdown",
   "id": "f4530592",
   "metadata": {},
   "source": [
    "Given a sentence, reverse the words of the sentence. For example, \"i live in a house\" becomes \"house a in live i\""
   ]
  },
  {
   "cell_type": "markdown",
   "id": "bc110fe7",
   "metadata": {},
   "source": [
    "### 1st attempt"
   ]
  },
  {
   "cell_type": "code",
   "execution_count": 6,
   "id": "f4e8d5ec",
   "metadata": {},
   "outputs": [
    {
     "name": "stdout",
     "output_type": "stream",
     "text": [
      "house a in live i\n"
     ]
    }
   ],
   "source": [
    "def reverseWords(string):\n",
    "    str_list = string.split(' ')\n",
    "    str_list_rev = str_list[::-1]\n",
    "    new_string = \" \".join(str_list_rev)\n",
    "    print(new_string)\n",
    "    \n",
    "reverseWords(\"i live in a house\")"
   ]
  },
  {
   "cell_type": "markdown",
   "id": "1159e018",
   "metadata": {},
   "source": [
    "### 2nd attempt"
   ]
  },
  {
   "cell_type": "code",
   "execution_count": 9,
   "id": "62732739",
   "metadata": {},
   "outputs": [
    {
     "name": "stdout",
     "output_type": "stream",
     "text": [
      "house a in live i\n"
     ]
    }
   ],
   "source": [
    "def reverseWords(string):\n",
    "    result = \"\"\n",
    "    end = len(string)\n",
    "    i = len(string) - 1\n",
    "    while i >= 0:\n",
    "        if string[i] == \" \":\n",
    "            if len(result) > 0:\n",
    "                result += \" \"\n",
    "                result += string[i+1:end]\n",
    "            else:\n",
    "                result += string[i+1:end]\n",
    "            end = i\n",
    "        i -= 1\n",
    "    result += \" \"\n",
    "    result += string[i+1:end]\n",
    "    print(result)\n",
    "    \n",
    "reverseWords(\"i live in a house\")"
   ]
  },
  {
   "cell_type": "markdown",
   "id": "e14774f8",
   "metadata": {},
   "source": [
    "## Traverse from Both ends (2 pointer)"
   ]
  },
  {
   "cell_type": "markdown",
   "id": "4929b5a4",
   "metadata": {},
   "source": [
    "Reverse the order of elements in an array. For example, A = [1,2,3,4,5,6], Output = [6,5,4,3,2,1]"
   ]
  },
  {
   "cell_type": "code",
   "execution_count": 10,
   "id": "737cde3c",
   "metadata": {},
   "outputs": [
    {
     "name": "stdout",
     "output_type": "stream",
     "text": [
      "[6, 5, 4, 3, 2, 1]\n"
     ]
    }
   ],
   "source": [
    "def reverseInPlace(a):\n",
    "    start = 0\n",
    "    end = len(a) - 1\n",
    "    while start < end:\n",
    "        a[start], a[end] = a[end], a[start]\n",
    "        start += 1\n",
    "        end -= 1\n",
    "    print(a)\n",
    "    \n",
    "reverseInPlace([1, 2 ,3, 4, 5, 6])"
   ]
  },
  {
   "cell_type": "markdown",
   "id": "1580f47d",
   "metadata": {},
   "source": [
    "Two Sum Problem - Find 2 numbers in a sorted array that sum to X. For example, if A = [1,2,3,4,5] and X = 9, the numbers are 4 and 5."
   ]
  },
  {
   "cell_type": "code",
   "execution_count": 15,
   "id": "c50da226",
   "metadata": {},
   "outputs": [
    {
     "data": {
      "text/plain": [
       "[1, 2]"
      ]
     },
     "execution_count": 15,
     "metadata": {},
     "output_type": "execute_result"
    }
   ],
   "source": [
    "def two_sum(a, target):\n",
    "    start = 0\n",
    "    end = len(a) - 1\n",
    "    while start < end:\n",
    "        if a[start] + a[end] < target:\n",
    "            start += 1\n",
    "        elif a[start] + a[end] > target:\n",
    "            end -= 1\n",
    "        else:\n",
    "            return [a[start], a[end]]\n",
    "    return None\n",
    "\n",
    "two_sum([1, 2, 3, 4, 5], 3)"
   ]
  },
  {
   "cell_type": "markdown",
   "id": "01401b8b",
   "metadata": {},
   "source": [
    "Given a sorted array in non-decreasing order, return an array of squares of each number, also in non-decreasing order. For example:\n",
    "\n",
    "[-4,-2,-1,0,3,5] -> [0,1,4,9,16,25]\n",
    "\n",
    "How can you do it in O(n) time?"
   ]
  },
  {
   "cell_type": "code",
   "execution_count": 18,
   "id": "645c7594",
   "metadata": {},
   "outputs": [
    {
     "data": {
      "text/plain": [
       "[0, 1, 1, 4, 9, 16, 25]"
      ]
     },
     "execution_count": 18,
     "metadata": {},
     "output_type": "execute_result"
    }
   ],
   "source": [
    "def square_sort(a):\n",
    "    start = 0\n",
    "    end = len(a) - 1\n",
    "    b = [0] * len(a)\n",
    "    new_end = len(b) - 1\n",
    "    while start < end:\n",
    "        if (a[end])**2 > (a[start])**2:\n",
    "            b[new_end] = a[end]**2\n",
    "            new_end -= 1\n",
    "            end -= 1\n",
    "        elif (a[start])**2 > (a[end])**2:\n",
    "            b[new_end] = a[start]**2\n",
    "            new_end -= 1\n",
    "            start += 1\n",
    "        else:\n",
    "            b[new_end] = a[start]**2\n",
    "            new_end -= 1\n",
    "            start += 1\n",
    "            b[new_end] = a[end]**2\n",
    "            new_end -= 1\n",
    "            end -= 1\n",
    "    return b\n",
    "\n",
    "square_sort([-4, -2, -1, 0, 1, 3, 5])"
   ]
  },
  {
   "cell_type": "markdown",
   "id": "ba1c2ac9",
   "metadata": {},
   "source": [
    "Using the two way traversal (two pointer) approach again. The input array is sorted non-decreasingly, so as we traverse inwards from both ends we encounter smaller squares. If we create a new result array and traverse through it backwards, we can populate it in a non-decreasing fashion. "
   ]
  },
  {
   "cell_type": "markdown",
   "id": "fe37d940",
   "metadata": {},
   "source": [
    "Given an array of integers, find the continuous subarray, which when sorted, results in the entire array being sorted. For example: A = [0,2,3,1,8,6,9], result is the subarray [2,3,1,8,6]"
   ]
  },
  {
   "cell_type": "code",
   "execution_count": 1,
   "id": "0fa92eb6",
   "metadata": {},
   "outputs": [
    {
     "data": {
      "text/plain": [
       "(1, 5)"
      ]
     },
     "execution_count": 1,
     "metadata": {},
     "output_type": "execute_result"
    }
   ],
   "source": [
    "def sorted_subarray(a):\n",
    "    start = 0\n",
    "    end = len(a) - 1\n",
    "    while start < len(a) - 1:\n",
    "        if a[start] > a[start+1]:\n",
    "            dip = start\n",
    "            break\n",
    "        start += 1\n",
    "    while end > 0:\n",
    "        if a[end] < a[end-1]:\n",
    "            bump = end\n",
    "            break\n",
    "        end -= 1\n",
    "    subarray = a[dip:bump+1]\n",
    "    mini = min(subarray)\n",
    "    maxi = max(subarray)\n",
    "    idx1 = dip - 1\n",
    "    idx2 = bump + 1\n",
    "    while idx1 >= 0:\n",
    "        if a[idx1] > mini:\n",
    "            dip = idx1\n",
    "        idx1 -= 1\n",
    "    while idx2 < len(a):\n",
    "        if a[idx2] < maxi:\n",
    "            bump = idx2\n",
    "        idx2 += 1\n",
    "    return (dip, bump)\n",
    "\n",
    "sorted_subarray([0, 2, 3, 1, 8, 6, 9])"
   ]
  },
  {
   "cell_type": "code",
   "execution_count": null,
   "id": "27f94242",
   "metadata": {},
   "outputs": [],
   "source": []
  }
 ],
 "metadata": {
  "kernelspec": {
   "display_name": "Python 3 (ipykernel)",
   "language": "python",
   "name": "python3"
  },
  "language_info": {
   "codemirror_mode": {
    "name": "ipython",
    "version": 3
   },
   "file_extension": ".py",
   "mimetype": "text/x-python",
   "name": "python",
   "nbconvert_exporter": "python",
   "pygments_lexer": "ipython3",
   "version": "3.8.10"
  }
 },
 "nbformat": 4,
 "nbformat_minor": 5
}
