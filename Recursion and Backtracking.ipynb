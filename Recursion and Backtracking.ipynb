{
 "cells": [
  {
   "cell_type": "markdown",
   "id": "b36ddd66",
   "metadata": {},
   "source": [
    "## Intro to Recursion and Memoization"
   ]
  },
  {
   "cell_type": "markdown",
   "id": "2518316c",
   "metadata": {},
   "source": [
    "1. All recursive functions should have the following: Base Case, Working towards a base case, and Recursive step.\n",
    "2. For each function call, recursion uses space on the program’s stack memory. So, be aware of space complexity. It is easy to assume that recursion takes O(1) memory. In reality, it might be taking more on the function stack.\n"
   ]
  },
  {
   "cell_type": "markdown",
   "id": "93344a45",
   "metadata": {},
   "source": [
    "The time complexity of doing a recursion program is exponential - $O(2^{n})$ and the space compelxity is the depth of the recursion tree which is $O(n)$. \n",
    "\n",
    "We can reduce this time complexity by using *memoization*"
   ]
  },
  {
   "cell_type": "markdown",
   "id": "d5980793",
   "metadata": {},
   "source": [
    "Fibonacci Series - Find the Nth element of the Fibonacci series - 1,1,2,3,5,8,.."
   ]
  },
  {
   "cell_type": "markdown",
   "id": "bb85ff43",
   "metadata": {},
   "source": [
    "### Attempt 1"
   ]
  },
  {
   "cell_type": "code",
   "execution_count": 9,
   "id": "c28e70b2",
   "metadata": {},
   "outputs": [
    {
     "data": {
      "text/plain": [
       "8"
      ]
     },
     "execution_count": 9,
     "metadata": {},
     "output_type": "execute_result"
    }
   ],
   "source": [
    "def fibo(n):\n",
    "    if n==1 or n==2:\n",
    "        return 1\n",
    "    return fibo(n-1) + fibo(n-2)\n",
    "\n",
    "fibo(6)"
   ]
  },
  {
   "cell_type": "markdown",
   "id": "c99448cc",
   "metadata": {},
   "source": [
    "In this problem, we use recursion with memoization to find the nth number in the Fibonacci series. For recursion, we use the base case of if n=1 or n=2, then we return the number 1. The recursion step is calling the same function. For memoization, we use a hashmap to store the results of our recursion tree. For example, while searching for n=5, since n=3 is already calculated in the previous step, we call the result from our hashmap where we store the result in the form hashmap[n]=result. \n",
    "\n",
    "After using memoization, the time compelxity of the algorithm reduces from $O(2^{n})$ to $O(n)$"
   ]
  },
  {
   "cell_type": "markdown",
   "id": "ab748922",
   "metadata": {},
   "source": [
    "### Attempt 2"
   ]
  },
  {
   "cell_type": "code",
   "execution_count": 5,
   "id": "3550720b",
   "metadata": {},
   "outputs": [
    {
     "data": {
      "text/plain": [
       "5"
      ]
     },
     "execution_count": 5,
     "metadata": {},
     "output_type": "execute_result"
    }
   ],
   "source": [
    "hm = {}\n",
    "def fibo(n):\n",
    "    if n==1 or n==2:\n",
    "        return 1\n",
    "    if n in hm.keys():\n",
    "        return hm[n]\n",
    "    result = fibo(n-1) + fibo(n-2)\n",
    "    hm[n] = result\n",
    "    return result\n",
    "\n",
    "fibo(5)"
   ]
  },
  {
   "cell_type": "markdown",
   "id": "07711078",
   "metadata": {},
   "source": [
    "Power Function: Implement a function to calculate $x^{n}$. Both x and n can be positive/negative and overflow doesn't happen. Try doing it in O(log(n)) time."
   ]
  },
  {
   "cell_type": "markdown",
   "id": "3fdef15c",
   "metadata": {},
   "source": [
    "### Attempt 1"
   ]
  },
  {
   "cell_type": "code",
   "execution_count": 6,
   "id": "bbd06715",
   "metadata": {},
   "outputs": [
    {
     "data": {
      "text/plain": [
       "32"
      ]
     },
     "execution_count": 6,
     "metadata": {},
     "output_type": "execute_result"
    }
   ],
   "source": [
    "def power(x, n):\n",
    "    if n == 0:\n",
    "        return 1\n",
    "    return x * power(x, n-1)\n",
    "\n",
    "power(2, 5)"
   ]
  },
  {
   "cell_type": "markdown",
   "id": "ed7c7387",
   "metadata": {},
   "source": [
    "First attempt is only recursion without memoization"
   ]
  },
  {
   "cell_type": "markdown",
   "id": "e7adaa8e",
   "metadata": {},
   "source": [
    "### Attempt 2"
   ]
  },
  {
   "cell_type": "code",
   "execution_count": 7,
   "id": "6fbea806",
   "metadata": {},
   "outputs": [
    {
     "data": {
      "text/plain": [
       "32"
      ]
     },
     "execution_count": 7,
     "metadata": {},
     "output_type": "execute_result"
    }
   ],
   "source": [
    "hm = {}\n",
    "def power(x, n):\n",
    "    if n == 0:\n",
    "        return 1\n",
    "    if n in hm.keys():\n",
    "        return hm[n]\n",
    "    result = x * power(x, n-1)\n",
    "    hm[n] = result\n",
    "    return result\n",
    "\n",
    "power(2, 5)"
   ]
  },
  {
   "cell_type": "code",
   "execution_count": 5,
   "id": "732c0f7b",
   "metadata": {},
   "outputs": [
    {
     "data": {
      "text/plain": [
       "0.125"
      ]
     },
     "execution_count": 5,
     "metadata": {},
     "output_type": "execute_result"
    }
   ],
   "source": [
    "def positivePower(x, n):\n",
    "    if n == 0:\n",
    "        return 1\n",
    "    if n == 1:\n",
    "        return x\n",
    "    half_power = positivePower(x, n//2)\n",
    "    if n % 2 == 0:\n",
    "        return half_power * half_power\n",
    "    else:\n",
    "        return x * half_power * half_power \n",
    "\n",
    "def power(x, n):\n",
    "    if x == 0 and n == 0:\n",
    "        return None\n",
    "    result = positivePower(abs(x), abs(n))\n",
    "    if n < 0:\n",
    "        return 1 / result\n",
    "    if x < 0 and n % 2 != 0:\n",
    "        return -result\n",
    "    return result\n",
    "\n",
    "power(2, -3)"
   ]
  },
  {
   "cell_type": "markdown",
   "id": "118cf546",
   "metadata": {},
   "source": [
    "For this problem, we have used recursion like so:\n",
    "\n",
    "$2^{8} = 2^{4} * 2^{4}$\n",
    "\n",
    "$2^{4} = 2^{2} * 2^{2}$..."
   ]
  },
  {
   "cell_type": "markdown",
   "id": "d06d0c3c",
   "metadata": {},
   "source": [
    "## Permutations/Combinations using Auxiliary Buffer"
   ]
  },
  {
   "cell_type": "markdown",
   "id": "49b2186e",
   "metadata": {},
   "source": [
    "Buffers are a good way to implement Top-Down Recursion\n",
    "\n",
    "Problems that require generating Permutations and Combinations fit this technique perfectly. Here are some problems we will solve using buffers:\n",
    "\n",
    "Given an array, print all Combinations (or Permutations) of length X\n",
    "Print all Combinations (or Permutations) of an array.\n",
    "Print all Subsets of an array.\n",
    "Phone Number Mnemonics Problem\n",
    "Coin Change Problem\n",
    "\n"
   ]
  },
  {
   "cell_type": "markdown",
   "id": "9f6a9b3f",
   "metadata": {},
   "source": [
    "Print all combinations of length 3."
   ]
  },
  {
   "cell_type": "markdown",
   "id": "aa5d8a12",
   "metadata": {},
   "source": [
    "### Attempt 1"
   ]
  },
  {
   "cell_type": "code",
   "execution_count": 4,
   "id": "7649baa4",
   "metadata": {},
   "outputs": [
    {
     "name": "stdout",
     "output_type": "stream",
     "text": [
      "[1, 2, 3]\n",
      "[1, 2, 4]\n",
      "[1, 2, 5]\n",
      "[1, 2, 6]\n",
      "[1, 2, 7]\n",
      "[1, 3, 4]\n",
      "[1, 3, 5]\n",
      "[1, 3, 6]\n",
      "[1, 3, 7]\n",
      "[1, 4, 5]\n",
      "[1, 4, 6]\n",
      "[1, 4, 7]\n",
      "[1, 5, 6]\n",
      "[1, 5, 7]\n",
      "[1, 6, 7]\n",
      "[2, 3, 4]\n",
      "[2, 3, 5]\n",
      "[2, 3, 6]\n",
      "[2, 3, 7]\n",
      "[2, 4, 5]\n",
      "[2, 4, 6]\n",
      "[2, 4, 7]\n",
      "[2, 5, 6]\n",
      "[2, 5, 7]\n",
      "[2, 6, 7]\n",
      "[3, 4, 5]\n",
      "[3, 4, 6]\n",
      "[3, 4, 7]\n",
      "[3, 5, 6]\n",
      "[3, 5, 7]\n",
      "[3, 6, 7]\n",
      "[4, 5, 6]\n",
      "[4, 5, 7]\n",
      "[4, 6, 7]\n",
      "[5, 6, 7]\n"
     ]
    }
   ],
   "source": [
    "def printCombos(a, buffer, startIndex=0, bufferIndex=0):\n",
    "    if bufferIndex == len(buffer):\n",
    "        print(buffer)\n",
    "        return\n",
    "    if startIndex == len(a):\n",
    "        return\n",
    "    for i in range(startIndex, len(a)):\n",
    "        buffer[bufferIndex] = a[i]\n",
    "        \n",
    "        printCombos(a, buffer, i+1, bufferIndex+1)\n",
    "        \n",
    "printCombos([1, 2, 3, 4, 5, 6, 7], [-1]*3)"
   ]
  },
  {
   "cell_type": "markdown",
   "id": "c1c7d279",
   "metadata": {},
   "source": [
    "### Attempt 2"
   ]
  },
  {
   "cell_type": "code",
   "execution_count": 5,
   "id": "37d5c4d4",
   "metadata": {},
   "outputs": [
    {
     "name": "stdout",
     "output_type": "stream",
     "text": [
      "[1, 2, 3]\n",
      "[1, 2, 4]\n",
      "[1, 2, 5]\n",
      "[1, 3, 4]\n",
      "[1, 3, 5]\n",
      "[1, 4, 5]\n",
      "[2, 3, 4]\n",
      "[2, 3, 5]\n",
      "[2, 4, 5]\n",
      "[3, 4, 5]\n"
     ]
    }
   ],
   "source": [
    "def printCombos(a, buffer, startIndex=0, bufferIndex=0):\n",
    "    if bufferIndex == len(buffer):\n",
    "        print(buffer)\n",
    "        return\n",
    "    if startIndex == len(a):\n",
    "        return \n",
    "    for i in range(startIndex, len(a)):\n",
    "        buffer[bufferIndex] = a[i]\n",
    "        \n",
    "        printCombos(a, buffer, i+1, bufferIndex+1)\n",
    "        \n",
    "printCombos([1, 2, 3, 4, 5], [-1]*3)"
   ]
  },
  {
   "cell_type": "code",
   "execution_count": null,
   "id": "7fd6d7c3",
   "metadata": {},
   "outputs": [],
   "source": []
  }
 ],
 "metadata": {
  "kernelspec": {
   "display_name": "Python 3 (ipykernel)",
   "language": "python",
   "name": "python3"
  },
  "language_info": {
   "codemirror_mode": {
    "name": "ipython",
    "version": 3
   },
   "file_extension": ".py",
   "mimetype": "text/x-python",
   "name": "python",
   "nbconvert_exporter": "python",
   "pygments_lexer": "ipython3",
   "version": "3.8.10"
  }
 },
 "nbformat": 4,
 "nbformat_minor": 5
}
