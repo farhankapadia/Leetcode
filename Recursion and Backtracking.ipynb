{
 "cells": [
  {
   "cell_type": "markdown",
   "id": "b36ddd66",
   "metadata": {},
   "source": [
    "## Intro to Recursion and Memoization"
   ]
  },
  {
   "cell_type": "markdown",
   "id": "2518316c",
   "metadata": {},
   "source": [
    "1. All recursive functions should have the following: Base Case, Working towards a base case, and Recursive step.\n",
    "2. For each function call, recursion uses space on the program’s stack memory. So, be aware of space complexity. It is easy to assume that recursion takes O(1) memory. In reality, it might be taking more on the function stack.\n"
   ]
  },
  {
   "cell_type": "markdown",
   "id": "93344a45",
   "metadata": {},
   "source": [
    "The time complexity of doing a recursion program is exponential - $O(2^{n})$ and the space compelxity is the depth of the recursion tree which is $O(n)$. \n",
    "\n",
    "We can reduce this time complexity by using *memoization*"
   ]
  },
  {
   "cell_type": "markdown",
   "id": "d5980793",
   "metadata": {},
   "source": [
    "Fibonacci Series - Find the Nth element of the Fibonacci series - 1,1,2,3,5,8,.."
   ]
  },
  {
   "cell_type": "markdown",
   "id": "bb85ff43",
   "metadata": {},
   "source": [
    "### Attempt 1"
   ]
  },
  {
   "cell_type": "code",
   "execution_count": 4,
   "id": "c28e70b2",
   "metadata": {},
   "outputs": [
    {
     "data": {
      "text/plain": [
       "8"
      ]
     },
     "execution_count": 4,
     "metadata": {},
     "output_type": "execute_result"
    }
   ],
   "source": [
    "def fibo(n):\n",
    "    if n==1 or n==2:\n",
    "        return 1\n",
    "    return fibo(n-1) + fibo(n-2)\n",
    "\n",
    "fibo(6)"
   ]
  },
  {
   "cell_type": "markdown",
   "id": "c99448cc",
   "metadata": {},
   "source": [
    "In this problem, we use recursion with memoization to find the nth number in the Fibonacci series. For recursion, we use the base case of if n=1 or n=2, then we return the number 1. The recursion step is calling the same function. For memoization, we use a hashmap to store the results of our recursion tree. For example, while searching for n=5, since n=3 is already calculated in the previous step, we call the result from our hashmap where we store the result in the form hashmap[n]=result. \n",
    "\n",
    "After using memoization, the time compelxity of the algorithm reduces from $O(2^{n})$ to $O(n)$"
   ]
  },
  {
   "cell_type": "markdown",
   "id": "ab748922",
   "metadata": {},
   "source": [
    "### Attempt 2"
   ]
  },
  {
   "cell_type": "code",
   "execution_count": 5,
   "id": "3550720b",
   "metadata": {},
   "outputs": [
    {
     "data": {
      "text/plain": [
       "5"
      ]
     },
     "execution_count": 5,
     "metadata": {},
     "output_type": "execute_result"
    }
   ],
   "source": [
    "hm = {}\n",
    "def fibo(n):\n",
    "    if n==1 or n==2:\n",
    "        return 1\n",
    "    if n in hm.keys():\n",
    "        return hm[n]\n",
    "    result = fibo(n-1) + fibo(n-2)\n",
    "    hm[n] = result\n",
    "    return result\n",
    "\n",
    "fibo(5)"
   ]
  },
  {
   "cell_type": "markdown",
   "id": "20ec6e66",
   "metadata": {},
   "source": [
    "### Attempt 3"
   ]
  },
  {
   "cell_type": "code",
   "execution_count": 2,
   "id": "9a854b44",
   "metadata": {},
   "outputs": [
    {
     "data": {
      "text/plain": [
       "5"
      ]
     },
     "execution_count": 2,
     "metadata": {},
     "output_type": "execute_result"
    }
   ],
   "source": [
    "hm = {}\n",
    "def fibo(n):\n",
    "    if n==1 or n==2:\n",
    "        return 1\n",
    "    if n in hm.keys():\n",
    "        return hm[n]\n",
    "    result = fibo(n-1) + fibo(n-2)\n",
    "    hm[n] = result\n",
    "    return result\n",
    "\n",
    "fibo(5)"
   ]
  },
  {
   "cell_type": "markdown",
   "id": "07711078",
   "metadata": {},
   "source": [
    "Power Function: Implement a function to calculate $x^{n}$. Both x and n can be positive/negative and overflow doesn't happen. Try doing it in O(log(n)) time."
   ]
  },
  {
   "cell_type": "markdown",
   "id": "3fdef15c",
   "metadata": {},
   "source": [
    "### Attempt 1"
   ]
  },
  {
   "cell_type": "code",
   "execution_count": 6,
   "id": "bbd06715",
   "metadata": {},
   "outputs": [
    {
     "data": {
      "text/plain": [
       "32"
      ]
     },
     "execution_count": 6,
     "metadata": {},
     "output_type": "execute_result"
    }
   ],
   "source": [
    "def power(x, n):\n",
    "    if n == 0:\n",
    "        return 1\n",
    "    return x * power(x, n-1)\n",
    "\n",
    "power(2, 5)"
   ]
  },
  {
   "cell_type": "markdown",
   "id": "ed7c7387",
   "metadata": {},
   "source": [
    "First attempt is only recursion without memoization"
   ]
  },
  {
   "cell_type": "markdown",
   "id": "e7adaa8e",
   "metadata": {},
   "source": [
    "### Attempt 2"
   ]
  },
  {
   "cell_type": "code",
   "execution_count": 7,
   "id": "6fbea806",
   "metadata": {},
   "outputs": [
    {
     "data": {
      "text/plain": [
       "32"
      ]
     },
     "execution_count": 7,
     "metadata": {},
     "output_type": "execute_result"
    }
   ],
   "source": [
    "hm = {}\n",
    "def power(x, n):\n",
    "    if n == 0:\n",
    "        return 1\n",
    "    if n in hm.keys():\n",
    "        return hm[n]\n",
    "    result = x * power(x, n-1)\n",
    "    hm[n] = result\n",
    "    return result\n",
    "\n",
    "power(2, 5)"
   ]
  },
  {
   "cell_type": "code",
   "execution_count": 5,
   "id": "732c0f7b",
   "metadata": {},
   "outputs": [
    {
     "data": {
      "text/plain": [
       "0.125"
      ]
     },
     "execution_count": 5,
     "metadata": {},
     "output_type": "execute_result"
    }
   ],
   "source": [
    "def positivePower(x, n):\n",
    "    if n == 0:\n",
    "        return 1\n",
    "    if n == 1:\n",
    "        return x\n",
    "    half_power = positivePower(x, n//2)\n",
    "    if n % 2 == 0:\n",
    "        return half_power * half_power\n",
    "    else:\n",
    "        return x * half_power * half_power \n",
    "\n",
    "def power(x, n):\n",
    "    if x == 0 and n == 0:\n",
    "        return None\n",
    "    result = positivePower(abs(x), abs(n))\n",
    "    if n < 0:\n",
    "        return 1 / result\n",
    "    if x < 0 and n % 2 != 0:\n",
    "        return -result\n",
    "    return result\n",
    "\n",
    "power(2, -3)"
   ]
  },
  {
   "cell_type": "markdown",
   "id": "2583d798",
   "metadata": {},
   "source": [
    "### Attempt 3"
   ]
  },
  {
   "cell_type": "code",
   "execution_count": 1,
   "id": "ce460c8b",
   "metadata": {},
   "outputs": [
    {
     "data": {
      "text/plain": [
       "0.125"
      ]
     },
     "execution_count": 1,
     "metadata": {},
     "output_type": "execute_result"
    }
   ],
   "source": [
    "def positive_power(x, n):\n",
    "    if n==0:\n",
    "        return 1\n",
    "    elif n==1:\n",
    "        return x\n",
    "    half_power = positive_power(x, n//2)\n",
    "    if n % 2 == 0:\n",
    "        return half_power * half_power\n",
    "    else:\n",
    "        return x * half_power * half_power\n",
    "    \n",
    "def power(x, n):\n",
    "    if x==0 and n==0:\n",
    "        return None\n",
    "    result = positive_power(abs(x), abs(n))\n",
    "    if n < 0:\n",
    "        return 1 / result\n",
    "    if x < 0 and n % 2 != 0:\n",
    "        return - result\n",
    "    return result\n",
    "\n",
    "power(2, -3)"
   ]
  },
  {
   "cell_type": "markdown",
   "id": "118cf546",
   "metadata": {},
   "source": [
    "For this problem, we have used recursion like so:\n",
    "\n",
    "$2^{8} = 2^{4} * 2^{4}$\n",
    "\n",
    "$2^{4} = 2^{2} * 2^{2}$..."
   ]
  },
  {
   "cell_type": "markdown",
   "id": "d06d0c3c",
   "metadata": {},
   "source": [
    "## Permutations/Combinations using Auxiliary Buffer"
   ]
  },
  {
   "cell_type": "markdown",
   "id": "49b2186e",
   "metadata": {},
   "source": [
    "Buffers are a good way to implement Top-Down Recursion\n",
    "\n",
    "Problems that require generating Permutations and Combinations fit this technique perfectly. Here are some problems we will solve using buffers:\n",
    "\n",
    "Given an array, print all Combinations (or Permutations) of length X\n",
    "Print all Combinations (or Permutations) of an array.\n",
    "Print all Subsets of an array.\n",
    "Phone Number Mnemonics Problem\n",
    "Coin Change Problem\n",
    "\n"
   ]
  },
  {
   "cell_type": "markdown",
   "id": "9f6a9b3f",
   "metadata": {},
   "source": [
    "Print all combinations of length 3."
   ]
  },
  {
   "cell_type": "markdown",
   "id": "aa5d8a12",
   "metadata": {},
   "source": [
    "### Attempt 1"
   ]
  },
  {
   "cell_type": "code",
   "execution_count": 2,
   "id": "7649baa4",
   "metadata": {},
   "outputs": [
    {
     "name": "stdout",
     "output_type": "stream",
     "text": [
      "[1, 2, 3]\n",
      "[1, 2, 4]\n",
      "[1, 2, 5]\n",
      "[1, 2, 6]\n",
      "[1, 2, 7]\n",
      "[1, 3, 4]\n",
      "[1, 3, 5]\n",
      "[1, 3, 6]\n",
      "[1, 3, 7]\n",
      "[1, 4, 5]\n",
      "[1, 4, 6]\n",
      "[1, 4, 7]\n",
      "[1, 5, 6]\n",
      "[1, 5, 7]\n",
      "[1, 6, 7]\n",
      "[2, 3, 4]\n",
      "[2, 3, 5]\n",
      "[2, 3, 6]\n",
      "[2, 3, 7]\n",
      "[2, 4, 5]\n",
      "[2, 4, 6]\n",
      "[2, 4, 7]\n",
      "[2, 5, 6]\n",
      "[2, 5, 7]\n",
      "[2, 6, 7]\n",
      "[3, 4, 5]\n",
      "[3, 4, 6]\n",
      "[3, 4, 7]\n",
      "[3, 5, 6]\n",
      "[3, 5, 7]\n",
      "[3, 6, 7]\n",
      "[4, 5, 6]\n",
      "[4, 5, 7]\n",
      "[4, 6, 7]\n",
      "[5, 6, 7]\n"
     ]
    }
   ],
   "source": [
    "def printCombos(a, buffer, startIndex=0, bufferIndex=0):\n",
    "    # termination case\n",
    "    if bufferIndex == len(buffer):\n",
    "        print(buffer)\n",
    "        return\n",
    "    if startIndex == len(a):\n",
    "        return\n",
    "    for i in range(startIndex, len(a)): # iterate through all possible combinations to go in this buffer index\n",
    "        buffer[bufferIndex] = a[i] # insert in buffer\n",
    "        \n",
    "        printCombos(a, buffer, i+1, bufferIndex+1) # recursive step\n",
    "        \n",
    "printCombos([1, 2, 3, 4, 5, 6, 7], [-1]*3)"
   ]
  },
  {
   "cell_type": "markdown",
   "id": "c1c7d279",
   "metadata": {},
   "source": [
    "### Attempt 2"
   ]
  },
  {
   "cell_type": "code",
   "execution_count": 5,
   "id": "37d5c4d4",
   "metadata": {},
   "outputs": [
    {
     "name": "stdout",
     "output_type": "stream",
     "text": [
      "[1, 2, 3]\n",
      "[1, 2, 4]\n",
      "[1, 2, 5]\n",
      "[1, 3, 4]\n",
      "[1, 3, 5]\n",
      "[1, 4, 5]\n",
      "[2, 3, 4]\n",
      "[2, 3, 5]\n",
      "[2, 4, 5]\n",
      "[3, 4, 5]\n"
     ]
    }
   ],
   "source": [
    "def printCombos(a, buffer, startIndex=0, bufferIndex=0):\n",
    "    if bufferIndex == len(buffer):\n",
    "        print(buffer)\n",
    "        return\n",
    "    if startIndex == len(a):\n",
    "        return \n",
    "    for i in range(startIndex, len(a)):\n",
    "        buffer[bufferIndex] = a[i]\n",
    "        \n",
    "        printCombos(a, buffer, i+1, bufferIndex+1)\n",
    "        \n",
    "printCombos([1, 2, 3, 4, 5], [-1]*3)"
   ]
  },
  {
   "cell_type": "markdown",
   "id": "1054032c",
   "metadata": {},
   "source": [
    "Phone Number Mnemonic Problem: Given an N digit phone number, print all the strings that can be made from that phone number. Since 1 and 0 don't correspond to any characters, ignore them. For example:\n",
    "\n",
    "213 => AD, AE, AF, BD, BE, BF, CD, CE, CF \n",
    "\n",
    "456 => GJM, GJN, GJO, GKM, GKN, GKO,.. etc."
   ]
  },
  {
   "cell_type": "markdown",
   "id": "3ce5d748",
   "metadata": {},
   "source": [
    "### Attempt 1"
   ]
  },
  {
   "cell_type": "code",
   "execution_count": 2,
   "id": "9dcc5786",
   "metadata": {},
   "outputs": [
    {
     "name": "stdout",
     "output_type": "stream",
     "text": [
      "['P', 'T', 'W']\n",
      "['P', 'T', 'X']\n",
      "['P', 'T', 'Y']\n",
      "['P', 'T', 'Z']\n",
      "['P', 'U', 'W']\n",
      "['P', 'U', 'X']\n",
      "['P', 'U', 'Y']\n",
      "['P', 'U', 'Z']\n",
      "['P', 'V', 'W']\n",
      "['P', 'V', 'X']\n",
      "['P', 'V', 'Y']\n",
      "['P', 'V', 'Z']\n",
      "['Q', 'T', 'W']\n",
      "['Q', 'T', 'X']\n",
      "['Q', 'T', 'Y']\n",
      "['Q', 'T', 'Z']\n",
      "['Q', 'U', 'W']\n",
      "['Q', 'U', 'X']\n",
      "['Q', 'U', 'Y']\n",
      "['Q', 'U', 'Z']\n",
      "['Q', 'V', 'W']\n",
      "['Q', 'V', 'X']\n",
      "['Q', 'V', 'Y']\n",
      "['Q', 'V', 'Z']\n",
      "['R', 'T', 'W']\n",
      "['R', 'T', 'X']\n",
      "['R', 'T', 'Y']\n",
      "['R', 'T', 'Z']\n",
      "['R', 'U', 'W']\n",
      "['R', 'U', 'X']\n",
      "['R', 'U', 'Y']\n",
      "['R', 'U', 'Z']\n",
      "['R', 'V', 'W']\n",
      "['R', 'V', 'X']\n",
      "['R', 'V', 'Y']\n",
      "['R', 'V', 'Z']\n",
      "['S', 'T', 'W']\n",
      "['S', 'T', 'X']\n",
      "['S', 'T', 'Y']\n",
      "['S', 'T', 'Z']\n",
      "['S', 'U', 'W']\n",
      "['S', 'U', 'X']\n",
      "['S', 'U', 'Y']\n",
      "['S', 'U', 'Z']\n",
      "['S', 'V', 'W']\n",
      "['S', 'V', 'X']\n",
      "['S', 'V', 'Y']\n",
      "['S', 'V', 'Z']\n"
     ]
    }
   ],
   "source": [
    "def getCandidates(n):\n",
    "    if n==0 or n==1:\n",
    "        return []\n",
    "    elif n==2:\n",
    "        return [\"A\", \"B\", \"C\"]\n",
    "    elif n==3:\n",
    "        return [\"D\", \"E\", \"F\"]\n",
    "    elif n==4:\n",
    "        return [\"G\", \"H\", \"I\"]\n",
    "    elif n==5:\n",
    "        return [\"J\", \"K\", \"L\"]\n",
    "    elif n==6:\n",
    "        return [\"M\", \"N\", \"O\"]\n",
    "    elif n==7:\n",
    "        return [\"P\", \"Q\", \"R\", \"S\"]\n",
    "    elif n==8:\n",
    "        return [\"T\", \"U\", \"V\"]\n",
    "    elif n==9:\n",
    "        return [\"W\", \"X\", \"Y\", \"Z\"]\n",
    "    else:\n",
    "        return []\n",
    "\n",
    "def printWords(a, buffer, nextIndex=0, bufferIndex=0):\n",
    "    # termination case\n",
    "    if bufferIndex==len(buffer) or nextIndex==len(a):\n",
    "        print(buffer)\n",
    "        return\n",
    "    # get all possible combinations to go in that particular buffer index\n",
    "    letters = getCandidates(a[nextIndex])\n",
    "    if len(letters)==0: # check if number is 0 or 1, if so, skip that number\n",
    "        printWords(a, buffer, nextIndex+1, bufferIndex)\n",
    "    for i in letters: # iterate through all possible combinations to go in this buffer index\n",
    "        buffer[bufferIndex] = i # insert in buffer\n",
    "        printWords(a, buffer, nextIndex+1, bufferIndex+1) # recursive step\n",
    "        \n",
    "printWords([7, 8, 9], [-1]*3)"
   ]
  },
  {
   "cell_type": "markdown",
   "id": "dba8127a",
   "metadata": {},
   "source": [
    "### Attempt 2"
   ]
  },
  {
   "cell_type": "code",
   "execution_count": 3,
   "id": "5e6da61e",
   "metadata": {},
   "outputs": [
    {
     "name": "stdout",
     "output_type": "stream",
     "text": [
      "['A', -1, -1]\n",
      "['B', -1, -1]\n",
      "['C', -1, -1]\n"
     ]
    }
   ],
   "source": [
    "def getCombinations(n):\n",
    "    if n==0 or n==1:\n",
    "        return []\n",
    "    elif n==2:\n",
    "        return [\"A\", \"B\", \"C\"]\n",
    "    elif n==3:\n",
    "        return [\"D\", \"E\", \"F\"]\n",
    "    elif n==4:\n",
    "        return [\"G\", \"H\", \"I\"]\n",
    "    elif n==5:\n",
    "        return [\"J\", \"K\", \"L\"]\n",
    "    elif n==6:\n",
    "        return [\"M\", \"N\", \"O\"]\n",
    "    elif n==7:\n",
    "        return [\"P\", \"Q\", \"R\", \"S\"]\n",
    "    elif n==8:\n",
    "        return [\"T\", \"U\", \"V\"]\n",
    "    elif n==9:\n",
    "        return [\"W\", \"X\", \"Y\", \"Z\"]\n",
    "    return []\n",
    "\n",
    "def printWords(a, buffer, nextIndex=0, bufferIndex=0):\n",
    "    if bufferIndex==len(buffer) or nextIndex==len(a):\n",
    "        print(buffer)\n",
    "        return\n",
    "    letters = getCombinations(a[nextIndex])\n",
    "    if len(letters)==0:\n",
    "        printWords(a, buffer, nextIndex+1, bufferIndex)\n",
    "    for i in letters:\n",
    "        buffer[bufferIndex] = i\n",
    "        printWords(a, buffer, nextIndex+1, bufferIndex+1)\n",
    "        \n",
    "printWords([1, 2, 0], [-1]*3)"
   ]
  },
  {
   "cell_type": "markdown",
   "id": "54c3f5ea",
   "metadata": {},
   "source": [
    " Print all subsets of an array of integers."
   ]
  },
  {
   "cell_type": "markdown",
   "id": "635f04ee",
   "metadata": {},
   "source": [
    "### Attempt 1"
   ]
  },
  {
   "cell_type": "code",
   "execution_count": 3,
   "id": "bc58c281",
   "metadata": {},
   "outputs": [
    {
     "name": "stdout",
     "output_type": "stream",
     "text": [
      "[]\n",
      "[1]\n",
      "[1, 2]\n",
      "[1, 2, 3]\n",
      "[1, 3]\n",
      "[2]\n",
      "[2, 3]\n",
      "[3]\n"
     ]
    }
   ],
   "source": [
    "def printSubsets(a, buffer, startIndex=0, bufferIndex=0):\n",
    "    print(buffer[0:bufferIndex])\n",
    "    if bufferIndex == len(buffer):\n",
    "        return\n",
    "    if startIndex == len(a):\n",
    "        return\n",
    "    for i in range(startIndex, len(a)):\n",
    "        buffer[bufferIndex] = a[i]\n",
    "        printSubsets(a, buffer, i+1, bufferIndex+1)\n",
    "    \n",
    "printSubsets([1, 2, 3], [-1]*3)"
   ]
  },
  {
   "cell_type": "markdown",
   "id": "2d6b0b90",
   "metadata": {},
   "source": [
    "### Attempt 2"
   ]
  },
  {
   "cell_type": "code",
   "execution_count": 4,
   "id": "721b63a3",
   "metadata": {},
   "outputs": [
    {
     "name": "stdout",
     "output_type": "stream",
     "text": [
      "[]\n",
      "[1]\n",
      "[1, 2]\n",
      "[1, 2, 3]\n",
      "[1, 2, 3, 4]\n",
      "[1, 2, 4]\n",
      "[1, 3]\n",
      "[1, 3, 4]\n",
      "[1, 4]\n",
      "[2]\n",
      "[2, 3]\n",
      "[2, 3, 4]\n",
      "[2, 4]\n",
      "[3]\n",
      "[3, 4]\n",
      "[4]\n"
     ]
    }
   ],
   "source": [
    "def printSubsets(a, buffer, startIndex=0, bufferIndex=0):\n",
    "    print(buffer[0:bufferIndex])\n",
    "    if bufferIndex == len(buffer):\n",
    "        return\n",
    "    if startIndex == len(a):\n",
    "        return\n",
    "    for i in range(startIndex, len(a)):\n",
    "        buffer[bufferIndex] = a[i]\n",
    "        printSubsets(a, buffer, i+1, bufferIndex+1)\n",
    "        \n",
    "printSubsets([1, 2, 3, 4], [-1]*4)"
   ]
  },
  {
   "cell_type": "markdown",
   "id": "3884d948",
   "metadata": {},
   "source": [
    "In this problem, we change just one line from the print all combinations of length l code. The print statement is put outside the if statement so the buffer is printed at every step and we get all possible subsets instead of only when the buffer is full"
   ]
  },
  {
   "cell_type": "markdown",
   "id": "5202c2d6",
   "metadata": {},
   "source": [
    "Print all permutations of length X."
   ]
  },
  {
   "cell_type": "markdown",
   "id": "952865fb",
   "metadata": {},
   "source": [
    "### Attempt 1"
   ]
  },
  {
   "cell_type": "code",
   "execution_count": 7,
   "id": "697c65f6",
   "metadata": {},
   "outputs": [
    {
     "name": "stdout",
     "output_type": "stream",
     "text": [
      "[1, 2, 3]\n",
      "[1, 2, 4]\n",
      "[1, 2, 5]\n",
      "[1, 2, 6]\n",
      "[1, 2, 7]\n",
      "[1, 3, 2]\n",
      "[1, 3, 4]\n",
      "[1, 3, 5]\n",
      "[1, 3, 6]\n",
      "[1, 3, 7]\n",
      "[1, 4, 2]\n",
      "[1, 4, 3]\n",
      "[1, 4, 5]\n",
      "[1, 4, 6]\n",
      "[1, 4, 7]\n",
      "[1, 5, 2]\n",
      "[1, 5, 3]\n",
      "[1, 5, 4]\n",
      "[1, 5, 6]\n",
      "[1, 5, 7]\n",
      "[1, 6, 2]\n",
      "[1, 6, 3]\n",
      "[1, 6, 4]\n",
      "[1, 6, 5]\n",
      "[1, 6, 7]\n",
      "[1, 7, 2]\n",
      "[1, 7, 3]\n",
      "[1, 7, 4]\n",
      "[1, 7, 5]\n",
      "[1, 7, 6]\n",
      "[2, 1, 3]\n",
      "[2, 1, 4]\n",
      "[2, 1, 5]\n",
      "[2, 1, 6]\n",
      "[2, 1, 7]\n",
      "[2, 3, 1]\n",
      "[2, 3, 4]\n",
      "[2, 3, 5]\n",
      "[2, 3, 6]\n",
      "[2, 3, 7]\n",
      "[2, 4, 1]\n",
      "[2, 4, 3]\n",
      "[2, 4, 5]\n",
      "[2, 4, 6]\n",
      "[2, 4, 7]\n",
      "[2, 5, 1]\n",
      "[2, 5, 3]\n",
      "[2, 5, 4]\n",
      "[2, 5, 6]\n",
      "[2, 5, 7]\n",
      "[2, 6, 1]\n",
      "[2, 6, 3]\n",
      "[2, 6, 4]\n",
      "[2, 6, 5]\n",
      "[2, 6, 7]\n",
      "[2, 7, 1]\n",
      "[2, 7, 3]\n",
      "[2, 7, 4]\n",
      "[2, 7, 5]\n",
      "[2, 7, 6]\n",
      "[3, 1, 2]\n",
      "[3, 1, 4]\n",
      "[3, 1, 5]\n",
      "[3, 1, 6]\n",
      "[3, 1, 7]\n",
      "[3, 2, 1]\n",
      "[3, 2, 4]\n",
      "[3, 2, 5]\n",
      "[3, 2, 6]\n",
      "[3, 2, 7]\n",
      "[3, 4, 1]\n",
      "[3, 4, 2]\n",
      "[3, 4, 5]\n",
      "[3, 4, 6]\n",
      "[3, 4, 7]\n",
      "[3, 5, 1]\n",
      "[3, 5, 2]\n",
      "[3, 5, 4]\n",
      "[3, 5, 6]\n",
      "[3, 5, 7]\n",
      "[3, 6, 1]\n",
      "[3, 6, 2]\n",
      "[3, 6, 4]\n",
      "[3, 6, 5]\n",
      "[3, 6, 7]\n",
      "[3, 7, 1]\n",
      "[3, 7, 2]\n",
      "[3, 7, 4]\n",
      "[3, 7, 5]\n",
      "[3, 7, 6]\n",
      "[4, 1, 2]\n",
      "[4, 1, 3]\n",
      "[4, 1, 5]\n",
      "[4, 1, 6]\n",
      "[4, 1, 7]\n",
      "[4, 2, 1]\n",
      "[4, 2, 3]\n",
      "[4, 2, 5]\n",
      "[4, 2, 6]\n",
      "[4, 2, 7]\n",
      "[4, 3, 1]\n",
      "[4, 3, 2]\n",
      "[4, 3, 5]\n",
      "[4, 3, 6]\n",
      "[4, 3, 7]\n",
      "[4, 5, 1]\n",
      "[4, 5, 2]\n",
      "[4, 5, 3]\n",
      "[4, 5, 6]\n",
      "[4, 5, 7]\n",
      "[4, 6, 1]\n",
      "[4, 6, 2]\n",
      "[4, 6, 3]\n",
      "[4, 6, 5]\n",
      "[4, 6, 7]\n",
      "[4, 7, 1]\n",
      "[4, 7, 2]\n",
      "[4, 7, 3]\n",
      "[4, 7, 5]\n",
      "[4, 7, 6]\n",
      "[5, 1, 2]\n",
      "[5, 1, 3]\n",
      "[5, 1, 4]\n",
      "[5, 1, 6]\n",
      "[5, 1, 7]\n",
      "[5, 2, 1]\n",
      "[5, 2, 3]\n",
      "[5, 2, 4]\n",
      "[5, 2, 6]\n",
      "[5, 2, 7]\n",
      "[5, 3, 1]\n",
      "[5, 3, 2]\n",
      "[5, 3, 4]\n",
      "[5, 3, 6]\n",
      "[5, 3, 7]\n",
      "[5, 4, 1]\n",
      "[5, 4, 2]\n",
      "[5, 4, 3]\n",
      "[5, 4, 6]\n",
      "[5, 4, 7]\n",
      "[5, 6, 1]\n",
      "[5, 6, 2]\n",
      "[5, 6, 3]\n",
      "[5, 6, 4]\n",
      "[5, 6, 7]\n",
      "[5, 7, 1]\n",
      "[5, 7, 2]\n",
      "[5, 7, 3]\n",
      "[5, 7, 4]\n",
      "[5, 7, 6]\n",
      "[6, 1, 2]\n",
      "[6, 1, 3]\n",
      "[6, 1, 4]\n",
      "[6, 1, 5]\n",
      "[6, 1, 7]\n",
      "[6, 2, 1]\n",
      "[6, 2, 3]\n",
      "[6, 2, 4]\n",
      "[6, 2, 5]\n",
      "[6, 2, 7]\n",
      "[6, 3, 1]\n",
      "[6, 3, 2]\n",
      "[6, 3, 4]\n",
      "[6, 3, 5]\n",
      "[6, 3, 7]\n",
      "[6, 4, 1]\n",
      "[6, 4, 2]\n",
      "[6, 4, 3]\n",
      "[6, 4, 5]\n",
      "[6, 4, 7]\n",
      "[6, 5, 1]\n",
      "[6, 5, 2]\n",
      "[6, 5, 3]\n",
      "[6, 5, 4]\n",
      "[6, 5, 7]\n",
      "[6, 7, 1]\n",
      "[6, 7, 2]\n",
      "[6, 7, 3]\n",
      "[6, 7, 4]\n",
      "[6, 7, 5]\n",
      "[7, 1, 2]\n",
      "[7, 1, 3]\n",
      "[7, 1, 4]\n",
      "[7, 1, 5]\n",
      "[7, 1, 6]\n",
      "[7, 2, 1]\n",
      "[7, 2, 3]\n",
      "[7, 2, 4]\n",
      "[7, 2, 5]\n",
      "[7, 2, 6]\n",
      "[7, 3, 1]\n",
      "[7, 3, 2]\n",
      "[7, 3, 4]\n",
      "[7, 3, 5]\n",
      "[7, 3, 6]\n",
      "[7, 4, 1]\n",
      "[7, 4, 2]\n",
      "[7, 4, 3]\n",
      "[7, 4, 5]\n",
      "[7, 4, 6]\n",
      "[7, 5, 1]\n",
      "[7, 5, 2]\n",
      "[7, 5, 3]\n",
      "[7, 5, 4]\n",
      "[7, 5, 6]\n",
      "[7, 6, 1]\n",
      "[7, 6, 2]\n",
      "[7, 6, 3]\n",
      "[7, 6, 4]\n",
      "[7, 6, 5]\n"
     ]
    }
   ],
   "source": [
    "def printPerms(a, buffer, isInBuffer, bufferIndex=0):\n",
    "    if bufferIndex == len(buffer):\n",
    "        print(buffer)\n",
    "        return\n",
    "    for i in range(0, len(a)):\n",
    "        if not isInBuffer[i]:\n",
    "            buffer[bufferIndex] = a[i]\n",
    "            isInBuffer[i] = True\n",
    "            printPerms(a, buffer, isInBuffer, bufferIndex+1)\n",
    "            isInBuffer[i] = False\n",
    "            \n",
    "            \n",
    "printPerms([1, 2, 3, 4, 5, 6, 7], [-1]*3, [False]*7)"
   ]
  },
  {
   "cell_type": "markdown",
   "id": "17daceeb",
   "metadata": {},
   "source": [
    "### Attempt 2"
   ]
  },
  {
   "cell_type": "code",
   "execution_count": 8,
   "id": "4f376875",
   "metadata": {},
   "outputs": [
    {
     "name": "stdout",
     "output_type": "stream",
     "text": [
      "[1, 2, 3]\n",
      "[1, 2, 4]\n",
      "[1, 2, 5]\n",
      "[1, 2, 6]\n",
      "[1, 2, 7]\n",
      "[1, 3, 2]\n",
      "[1, 3, 4]\n",
      "[1, 3, 5]\n",
      "[1, 3, 6]\n",
      "[1, 3, 7]\n",
      "[1, 4, 2]\n",
      "[1, 4, 3]\n",
      "[1, 4, 5]\n",
      "[1, 4, 6]\n",
      "[1, 4, 7]\n",
      "[1, 5, 2]\n",
      "[1, 5, 3]\n",
      "[1, 5, 4]\n",
      "[1, 5, 6]\n",
      "[1, 5, 7]\n",
      "[1, 6, 2]\n",
      "[1, 6, 3]\n",
      "[1, 6, 4]\n",
      "[1, 6, 5]\n",
      "[1, 6, 7]\n",
      "[1, 7, 2]\n",
      "[1, 7, 3]\n",
      "[1, 7, 4]\n",
      "[1, 7, 5]\n",
      "[1, 7, 6]\n",
      "[2, 1, 3]\n",
      "[2, 1, 4]\n",
      "[2, 1, 5]\n",
      "[2, 1, 6]\n",
      "[2, 1, 7]\n",
      "[2, 3, 1]\n",
      "[2, 3, 4]\n",
      "[2, 3, 5]\n",
      "[2, 3, 6]\n",
      "[2, 3, 7]\n",
      "[2, 4, 1]\n",
      "[2, 4, 3]\n",
      "[2, 4, 5]\n",
      "[2, 4, 6]\n",
      "[2, 4, 7]\n",
      "[2, 5, 1]\n",
      "[2, 5, 3]\n",
      "[2, 5, 4]\n",
      "[2, 5, 6]\n",
      "[2, 5, 7]\n",
      "[2, 6, 1]\n",
      "[2, 6, 3]\n",
      "[2, 6, 4]\n",
      "[2, 6, 5]\n",
      "[2, 6, 7]\n",
      "[2, 7, 1]\n",
      "[2, 7, 3]\n",
      "[2, 7, 4]\n",
      "[2, 7, 5]\n",
      "[2, 7, 6]\n",
      "[3, 1, 2]\n",
      "[3, 1, 4]\n",
      "[3, 1, 5]\n",
      "[3, 1, 6]\n",
      "[3, 1, 7]\n",
      "[3, 2, 1]\n",
      "[3, 2, 4]\n",
      "[3, 2, 5]\n",
      "[3, 2, 6]\n",
      "[3, 2, 7]\n",
      "[3, 4, 1]\n",
      "[3, 4, 2]\n",
      "[3, 4, 5]\n",
      "[3, 4, 6]\n",
      "[3, 4, 7]\n",
      "[3, 5, 1]\n",
      "[3, 5, 2]\n",
      "[3, 5, 4]\n",
      "[3, 5, 6]\n",
      "[3, 5, 7]\n",
      "[3, 6, 1]\n",
      "[3, 6, 2]\n",
      "[3, 6, 4]\n",
      "[3, 6, 5]\n",
      "[3, 6, 7]\n",
      "[3, 7, 1]\n",
      "[3, 7, 2]\n",
      "[3, 7, 4]\n",
      "[3, 7, 5]\n",
      "[3, 7, 6]\n",
      "[4, 1, 2]\n",
      "[4, 1, 3]\n",
      "[4, 1, 5]\n",
      "[4, 1, 6]\n",
      "[4, 1, 7]\n",
      "[4, 2, 1]\n",
      "[4, 2, 3]\n",
      "[4, 2, 5]\n",
      "[4, 2, 6]\n",
      "[4, 2, 7]\n",
      "[4, 3, 1]\n",
      "[4, 3, 2]\n",
      "[4, 3, 5]\n",
      "[4, 3, 6]\n",
      "[4, 3, 7]\n",
      "[4, 5, 1]\n",
      "[4, 5, 2]\n",
      "[4, 5, 3]\n",
      "[4, 5, 6]\n",
      "[4, 5, 7]\n",
      "[4, 6, 1]\n",
      "[4, 6, 2]\n",
      "[4, 6, 3]\n",
      "[4, 6, 5]\n",
      "[4, 6, 7]\n",
      "[4, 7, 1]\n",
      "[4, 7, 2]\n",
      "[4, 7, 3]\n",
      "[4, 7, 5]\n",
      "[4, 7, 6]\n",
      "[5, 1, 2]\n",
      "[5, 1, 3]\n",
      "[5, 1, 4]\n",
      "[5, 1, 6]\n",
      "[5, 1, 7]\n",
      "[5, 2, 1]\n",
      "[5, 2, 3]\n",
      "[5, 2, 4]\n",
      "[5, 2, 6]\n",
      "[5, 2, 7]\n",
      "[5, 3, 1]\n",
      "[5, 3, 2]\n",
      "[5, 3, 4]\n",
      "[5, 3, 6]\n",
      "[5, 3, 7]\n",
      "[5, 4, 1]\n",
      "[5, 4, 2]\n",
      "[5, 4, 3]\n",
      "[5, 4, 6]\n",
      "[5, 4, 7]\n",
      "[5, 6, 1]\n",
      "[5, 6, 2]\n",
      "[5, 6, 3]\n",
      "[5, 6, 4]\n",
      "[5, 6, 7]\n",
      "[5, 7, 1]\n",
      "[5, 7, 2]\n",
      "[5, 7, 3]\n",
      "[5, 7, 4]\n",
      "[5, 7, 6]\n",
      "[6, 1, 2]\n",
      "[6, 1, 3]\n",
      "[6, 1, 4]\n",
      "[6, 1, 5]\n",
      "[6, 1, 7]\n",
      "[6, 2, 1]\n",
      "[6, 2, 3]\n",
      "[6, 2, 4]\n",
      "[6, 2, 5]\n",
      "[6, 2, 7]\n",
      "[6, 3, 1]\n",
      "[6, 3, 2]\n",
      "[6, 3, 4]\n",
      "[6, 3, 5]\n",
      "[6, 3, 7]\n",
      "[6, 4, 1]\n",
      "[6, 4, 2]\n",
      "[6, 4, 3]\n",
      "[6, 4, 5]\n",
      "[6, 4, 7]\n",
      "[6, 5, 1]\n",
      "[6, 5, 2]\n",
      "[6, 5, 3]\n",
      "[6, 5, 4]\n",
      "[6, 5, 7]\n",
      "[6, 7, 1]\n",
      "[6, 7, 2]\n",
      "[6, 7, 3]\n",
      "[6, 7, 4]\n",
      "[6, 7, 5]\n",
      "[7, 1, 2]\n",
      "[7, 1, 3]\n",
      "[7, 1, 4]\n",
      "[7, 1, 5]\n",
      "[7, 1, 6]\n",
      "[7, 2, 1]\n",
      "[7, 2, 3]\n",
      "[7, 2, 4]\n",
      "[7, 2, 5]\n",
      "[7, 2, 6]\n",
      "[7, 3, 1]\n",
      "[7, 3, 2]\n",
      "[7, 3, 4]\n",
      "[7, 3, 5]\n",
      "[7, 3, 6]\n",
      "[7, 4, 1]\n",
      "[7, 4, 2]\n",
      "[7, 4, 3]\n",
      "[7, 4, 5]\n",
      "[7, 4, 6]\n",
      "[7, 5, 1]\n",
      "[7, 5, 2]\n",
      "[7, 5, 3]\n",
      "[7, 5, 4]\n",
      "[7, 5, 6]\n",
      "[7, 6, 1]\n",
      "[7, 6, 2]\n",
      "[7, 6, 3]\n",
      "[7, 6, 4]\n",
      "[7, 6, 5]\n"
     ]
    }
   ],
   "source": [
    "def printPerms(a, buffer, isInBuffer, bufferIndex=0):\n",
    "    if bufferIndex == len(buffer):\n",
    "        print(buffer)\n",
    "        return\n",
    "    for i in range(0, len(a)):\n",
    "        if not isInBuffer[i]:\n",
    "            buffer[bufferIndex] = a[i]\n",
    "            isInBuffer[i] = True\n",
    "            printPerms(a, buffer, isInBuffer, bufferIndex+1)\n",
    "            isInBuffer[i] = False\n",
    "            \n",
    "printPerms([1, 2, 3, 4, 5, 6, 7], [-1]*3, [False]*7)"
   ]
  },
  {
   "cell_type": "markdown",
   "id": "4489d96d",
   "metadata": {},
   "source": [
    "Coin Change Problem: Given a set of coin denominations, print out the different ways you can make a target amount. You can use as many coins of each denomination as you like.\n",
    "\n",
    "For example: If coins are [1,2,5] and the target is 5, output will be:\n",
    "\n",
    "[1,1,1,1,1]\n",
    "\n",
    "[1,1,1,2]\n",
    "\n",
    "[1,2,2]\n",
    "\n",
    "[5]"
   ]
  },
  {
   "cell_type": "markdown",
   "id": "63bc61d5",
   "metadata": {},
   "source": [
    "### Attempt 1"
   ]
  },
  {
   "cell_type": "code",
   "execution_count": 12,
   "id": "65628c62",
   "metadata": {},
   "outputs": [
    {
     "name": "stdout",
     "output_type": "stream",
     "text": [
      "[1, 1, 1, 1, 1]\n",
      "[1, 1, 1, 2]\n",
      "[1, 2, 2]\n",
      "[5]\n"
     ]
    }
   ],
   "source": [
    "def printCoins(a, target, buffer=[], startIndex=0, currentSum=0):\n",
    "    if currentSum > target:\n",
    "        return\n",
    "    if currentSum == target:\n",
    "        print(buffer)\n",
    "        return\n",
    "    for i in range(startIndex, len(a)):\n",
    "        buffer.append(a[i])\n",
    "        printCoins(a, target, buffer, i, currentSum + a[i])\n",
    "        buffer.pop()\n",
    "        \n",
    "printCoins([1, 2, 5], 5)"
   ]
  },
  {
   "cell_type": "markdown",
   "id": "60522ddf",
   "metadata": {},
   "source": [
    "### Attempt 2"
   ]
  },
  {
   "cell_type": "code",
   "execution_count": 13,
   "id": "e957f5f0",
   "metadata": {},
   "outputs": [
    {
     "name": "stdout",
     "output_type": "stream",
     "text": [
      "[1, 1, 1, 1, 1, 1, 1]\n",
      "[1, 1, 1, 1, 3]\n",
      "[1, 3, 3]\n",
      "[7]\n"
     ]
    }
   ],
   "source": [
    "def printCoins(a, target, buffer=[], startIndex=0, currentSum=0):\n",
    "    if currentSum > target:\n",
    "        return\n",
    "    if currentSum == target:\n",
    "        print(buffer)\n",
    "        return\n",
    "    for i in range(startIndex, len(a)):\n",
    "        buffer.append(a[i])\n",
    "        printCoins(a, target, buffer, i, currentSum + a[i])\n",
    "        buffer.pop()\n",
    "        \n",
    "printCoins([1, 3, 7], 7)"
   ]
  },
  {
   "cell_type": "code",
   "execution_count": null,
   "id": "b2e1f5fe",
   "metadata": {},
   "outputs": [],
   "source": []
  }
 ],
 "metadata": {
  "kernelspec": {
   "display_name": "Python 3 (ipykernel)",
   "language": "python",
   "name": "python3"
  },
  "language_info": {
   "codemirror_mode": {
    "name": "ipython",
    "version": 3
   },
   "file_extension": ".py",
   "mimetype": "text/x-python",
   "name": "python",
   "nbconvert_exporter": "python",
   "pygments_lexer": "ipython3",
   "version": "3.8.10"
  }
 },
 "nbformat": 4,
 "nbformat_minor": 5
}
