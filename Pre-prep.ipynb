{
 "cells": [
  {
   "cell_type": "markdown",
   "id": "09e03051",
   "metadata": {},
   "source": [
    "# 5 Commandments"
   ]
  },
  {
   "cell_type": "markdown",
   "id": "be21ef99",
   "metadata": {},
   "source": [
    "1. Try mastering a few (about 100) problems first instead of trying to solve as many problems as possible. Depth first, instead of breadth. After that, try solving as many problems as possible.\n",
    "2. Focus on only one resource at a time. Complete the resource in whatever time it takes instead of jumping around.\n",
    "3. Use CoderPad, not LeetCode. Most companies do not want all test cases to pass like LeetCode does.\n",
    "4. Repeat code twice right away.\n",
    "5. Spaced Repitition. Come back to the same problem in 3 days, then 7 days, then two weeks. It gets easier each time."
   ]
  },
  {
   "cell_type": "markdown",
   "id": "d6dd0fff",
   "metadata": {},
   "source": [
    "Given an array of integers, find a pair of integers that sums to a number X.\n",
    "\n",
    "For e.g, if A = [6,3,5,2,1,7]. X = 4, Result= [3,1]"
   ]
  },
  {
   "cell_type": "markdown",
   "id": "11e89479",
   "metadata": {},
   "source": [
    "#### 1st attempt"
   ]
  },
  {
   "cell_type": "code",
   "execution_count": 3,
   "id": "bf196e13",
   "metadata": {},
   "outputs": [
    {
     "data": {
      "text/plain": [
       "[1, 3]"
      ]
     },
     "execution_count": 3,
     "metadata": {},
     "output_type": "execute_result"
    }
   ],
   "source": [
    "def pair_sum(a, target):\n",
    "    d = {}\n",
    "    for i in a:\n",
    "        if (target - i) in d.keys():\n",
    "            return [i, target-i]\n",
    "        else:\n",
    "            d[i] = \"placeholder\"\n",
    "    return None\n",
    "\n",
    "pair_sum([6, 3, 5, 2, 1, 7], 4)"
   ]
  },
  {
   "cell_type": "markdown",
   "id": "37468245",
   "metadata": {},
   "source": [
    "I first initialized a hashmap with an empty dictionary. Then I checked if (target-a[i]) was in the hashmap while iterating through the array. If it was present, then return (a[i], target-a[i]), else just add the element to the hashmap. If no pair is found, return None."
   ]
  },
  {
   "cell_type": "markdown",
   "id": "9c976c30",
   "metadata": {},
   "source": [
    "#### 2nd attempt"
   ]
  },
  {
   "cell_type": "code",
   "execution_count": 4,
   "id": "e9515cf9",
   "metadata": {},
   "outputs": [
    {
     "data": {
      "text/plain": [
       "[1, 2]"
      ]
     },
     "execution_count": 4,
     "metadata": {},
     "output_type": "execute_result"
    }
   ],
   "source": [
    "def pair_sum(a, target):\n",
    "    d = {}\n",
    "    for i in a:\n",
    "        if (target-i) in d.keys():\n",
    "            return [i, target-i]\n",
    "        else:\n",
    "            d[i] = \"placeholder\"\n",
    "    return None\n",
    "\n",
    "pair_sum([2, 5, 3, 7, 8, 1, 4], 3)"
   ]
  },
  {
   "cell_type": "markdown",
   "id": "8834cab3",
   "metadata": {},
   "source": [
    "Most array manipulation questions like finding duplicates, pair sum, etc. can be solved with 3 approaches:\n",
    "\n",
    "1. Brute Force: Two loops, nested, iterating through all pairs of elements. Time complexity is $O(n^{2})$\n",
    "2. Sorting: Sorting the array, then traversing and checking two elements side-by-side. Time complexity is $O(nlog(n))$\n",
    "3. Hashmap: Adding array elements as keys to hashmap and then checking the keys. Time complexity is $O(n)$\n",
    "\n",
    "The Hashmap approach is the best time complexity wise but not great space complexity wise"
   ]
  },
  {
   "cell_type": "markdown",
   "id": "08fb6bff",
   "metadata": {},
   "source": [
    "### The ESTCV approach"
   ]
  },
  {
   "cell_type": "markdown",
   "id": "0ac8fa78",
   "metadata": {},
   "source": [
    "1. Write **E**xamples and clarify the question: write examples, and in the process, ask questions that unearth the actual problem the interviewer wants you to solve.\n",
    "2. Come up with **S**olutions: Come up with solutions and explain them to the interviewer, and once the interviewer seems to settle on one, write down simple steps, not more than a few lines. Doing this makes it clear (to both of you) what you will code for the rest of the interview.\n",
    "3. Write down **T**est cases: When an interviewer sees you do this, they know you are legit. Quickly jot down key test cases.\n",
    "4. Write **C**ode: Write the actual code. Make liberal use of helper functions.\n",
    "5. **V**erify code and test cases: Once you are done, make sure you step through the code and make sure it works."
   ]
  },
  {
   "cell_type": "code",
   "execution_count": null,
   "id": "35f08335",
   "metadata": {},
   "outputs": [],
   "source": []
  }
 ],
 "metadata": {
  "kernelspec": {
   "display_name": "Python 3 (ipykernel)",
   "language": "python",
   "name": "python3"
  },
  "language_info": {
   "codemirror_mode": {
    "name": "ipython",
    "version": 3
   },
   "file_extension": ".py",
   "mimetype": "text/x-python",
   "name": "python",
   "nbconvert_exporter": "python",
   "pygments_lexer": "ipython3",
   "version": "3.8.10"
  }
 },
 "nbformat": 4,
 "nbformat_minor": 5
}
