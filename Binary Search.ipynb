{
 "cells": [
  {
   "cell_type": "markdown",
   "id": "2707b335",
   "metadata": {},
   "source": [
    "## Implementation"
   ]
  },
  {
   "cell_type": "markdown",
   "id": "db6280e0",
   "metadata": {},
   "source": [
    "Given a sorted array, search for a target item."
   ]
  },
  {
   "cell_type": "markdown",
   "id": "46743a7f",
   "metadata": {},
   "source": [
    "### Attempt 1"
   ]
  },
  {
   "cell_type": "code",
   "execution_count": 2,
   "id": "a874432f",
   "metadata": {},
   "outputs": [
    {
     "data": {
      "text/plain": [
       "6"
      ]
     },
     "execution_count": 2,
     "metadata": {},
     "output_type": "execute_result"
    }
   ],
   "source": [
    "def binary_search(a, target):\n",
    "    start = 0\n",
    "    end = len(a) - 1\n",
    "    while start <= end:\n",
    "        mid = start + (end-start)//2\n",
    "        if a[mid] < target:\n",
    "            start = mid + 1\n",
    "        elif a[mid] > target:\n",
    "            end = mid - 1\n",
    "        else:\n",
    "            return mid\n",
    "    return -1\n",
    "\n",
    "binary_search([1, 2, 3, 4, 5, 6, 7, 8, 9], 7)"
   ]
  },
  {
   "cell_type": "markdown",
   "id": "1f3f4a8b",
   "metadata": {},
   "source": [
    "### Attempt 2"
   ]
  },
  {
   "cell_type": "code",
   "execution_count": 4,
   "id": "75d4115b",
   "metadata": {},
   "outputs": [
    {
     "data": {
      "text/plain": [
       "-1"
      ]
     },
     "execution_count": 4,
     "metadata": {},
     "output_type": "execute_result"
    }
   ],
   "source": [
    "def binary_search(a, target):\n",
    "    start = 0\n",
    "    end = len(a) - 1\n",
    "    while start <= end:\n",
    "        mid = start + (end-start)//2\n",
    "        if a[mid] < target:\n",
    "            start = mid + 1\n",
    "        elif a[mid] > target:\n",
    "            end = mid - 1\n",
    "        else:\n",
    "            return mid\n",
    "    return -1\n",
    "\n",
    "binary_search([3, 23, 56, 78, 79, 90, 99, 101, 145], 0)"
   ]
  },
  {
   "cell_type": "markdown",
   "id": "1e458cc7",
   "metadata": {},
   "source": [
    "I used start + (end-start)/2 instead of (start+end)/2 because it prevents the integer overflow exception"
   ]
  },
  {
   "cell_type": "markdown",
   "id": "e9d80526",
   "metadata": {},
   "source": [
    "## Binary Search with Duplicates"
   ]
  },
  {
   "cell_type": "markdown",
   "id": "f6b00ef6",
   "metadata": {},
   "source": [
    "Given a sorted array that can contain duplicates, find the first occurrence of a target element T.\n",
    "\n",
    "For example, if A = [2,3,4,4,5,6] and T = 4, return index 2."
   ]
  },
  {
   "cell_type": "markdown",
   "id": "09c13ec5",
   "metadata": {},
   "source": [
    "### Attempt 1"
   ]
  },
  {
   "cell_type": "code",
   "execution_count": 5,
   "id": "b0999bdc",
   "metadata": {},
   "outputs": [
    {
     "data": {
      "text/plain": [
       "2"
      ]
     },
     "execution_count": 5,
     "metadata": {},
     "output_type": "execute_result"
    }
   ],
   "source": [
    "def dup_binary(a, target):\n",
    "    start = 0\n",
    "    end = len(a) - 1\n",
    "    while start <= end:\n",
    "        mid = start + (end-start)//2\n",
    "        if a[mid] < target:\n",
    "            start = mid + 1\n",
    "        elif (a[mid] > target) or (a[mid]==target and mid > 0 and a[mid-1]==target):\n",
    "            end = mid - 1\n",
    "        else:\n",
    "            return mid\n",
    "    return -1\n",
    "\n",
    "dup_binary([2,3,4,4,5,6], 4)"
   ]
  },
  {
   "cell_type": "markdown",
   "id": "cd3b7ce7",
   "metadata": {},
   "source": [
    "### Attempt 2"
   ]
  },
  {
   "cell_type": "code",
   "execution_count": 6,
   "id": "0409ea28",
   "metadata": {},
   "outputs": [
    {
     "data": {
      "text/plain": [
       "4"
      ]
     },
     "execution_count": 6,
     "metadata": {},
     "output_type": "execute_result"
    }
   ],
   "source": [
    "def dup_binary(a, target):\n",
    "    start = 0\n",
    "    end = len(a) - 1\n",
    "    while start <= end:\n",
    "        mid = start + (end-start)//2\n",
    "        if a[mid] < target:\n",
    "            start = mid + 1\n",
    "        elif (a[mid] > target) or (a[mid]==target and mid>0 and a[mid-1]==target):\n",
    "            end = mid - 1\n",
    "        else:\n",
    "            return mid\n",
    "    return -1\n",
    "\n",
    "dup_binary([1, 2, 2, 3, 4, 4, 4, 5, 6, 7, 7], 4)"
   ]
  },
  {
   "cell_type": "markdown",
   "id": "4bbf4f2a",
   "metadata": {},
   "source": [
    "You are given a sorted array A and a target T. Return the index where T would be placed if inserted in order. For example,\n",
    "\n",
    "A = [1,2,4,5,6,8] and T = 3, return index 2\n",
    "A = [1,2,4,5,6,8] and T = 0, return index 0\n",
    "A = [1,2,4,5,6,8] and T = 4, return index 3."
   ]
  },
  {
   "cell_type": "markdown",
   "id": "41694fbc",
   "metadata": {},
   "source": [
    "### Attempt 1"
   ]
  },
  {
   "cell_type": "code",
   "execution_count": 10,
   "id": "72404355",
   "metadata": {},
   "outputs": [
    {
     "data": {
      "text/plain": [
       "3"
      ]
     },
     "execution_count": 10,
     "metadata": {},
     "output_type": "execute_result"
    }
   ],
   "source": [
    "def insert_in_order(a, target):\n",
    "    start = 0\n",
    "    end = len(a) - 1\n",
    "    while start <= end:\n",
    "        mid = start + (end-start)//2\n",
    "        if a[mid] < target:\n",
    "            start = mid + 1\n",
    "        elif a[mid] > target:\n",
    "            end = mid - 1\n",
    "        else:\n",
    "            return mid + 1\n",
    "    if a[start] > target:\n",
    "        return start\n",
    "    else:\n",
    "        return start + 1\n",
    "    \n",
    "insert_in_order([1, 2, 4, 5, 6, 8], 4)"
   ]
  },
  {
   "cell_type": "markdown",
   "id": "1766b4ee",
   "metadata": {},
   "source": [
    "### Attempt 2"
   ]
  },
  {
   "cell_type": "code",
   "execution_count": 14,
   "id": "c5ebaca9",
   "metadata": {},
   "outputs": [
    {
     "data": {
      "text/plain": [
       "6"
      ]
     },
     "execution_count": 14,
     "metadata": {},
     "output_type": "execute_result"
    }
   ],
   "source": [
    "def insert_in_order(a, target):\n",
    "    start = 0\n",
    "    end = len(a) - 1\n",
    "    while start <= end:\n",
    "        mid = start + (end-start)//2\n",
    "        if a[mid] < target:\n",
    "            start = mid + 1\n",
    "        elif a[mid] > target:\n",
    "            end = mid - 1\n",
    "        else:\n",
    "            return mid + 1\n",
    "    if start >= len(a):\n",
    "        return start\n",
    "    if a[start] > target:\n",
    "        return start\n",
    "    else:\n",
    "        return start + 1\n",
    "\n",
    "insert_in_order([1, 2, 4, 5, 6, 8], 10)"
   ]
  },
  {
   "cell_type": "markdown",
   "id": "81b52286",
   "metadata": {},
   "source": [
    "## Search for closest - record and move on"
   ]
  },
  {
   "cell_type": "markdown",
   "id": "5042af9b",
   "metadata": {},
   "source": [
    "Given a sorted array A and a target T, find the target. If the target is not in the array, find the number closest to the target. For example, if A = [2,3,5,8,9,11] and T = 7, return index of 8, i.e. return 3."
   ]
  },
  {
   "cell_type": "markdown",
   "id": "98d82f72",
   "metadata": {},
   "source": [
    "### Attempt 1"
   ]
  },
  {
   "cell_type": "code",
   "execution_count": 17,
   "id": "211eb2d5",
   "metadata": {},
   "outputs": [
    {
     "data": {
      "text/plain": [
       "3"
      ]
     },
     "execution_count": 17,
     "metadata": {},
     "output_type": "execute_result"
    }
   ],
   "source": [
    "def record(a, mid, result, target):\n",
    "    if result is None:\n",
    "        result = mid\n",
    "    elif abs(a[mid] - target) < abs(a[result] - target):\n",
    "        result = mid\n",
    "    return result\n",
    "\n",
    "def binary_search(a, target):\n",
    "    start = 0\n",
    "    end = len(a) - 1\n",
    "    result = None\n",
    "    while start <= end:\n",
    "        mid = start + (end-start)//2\n",
    "        result = record(a, mid, result, target)\n",
    "        if a[mid] < target:\n",
    "            start = mid + 1\n",
    "        elif a[mid] > target:\n",
    "            end = mid - 1\n",
    "        else:\n",
    "            return mid\n",
    "    return result\n",
    "\n",
    "binary_search([2, 3, 5, 8, 9, 11], 7)"
   ]
  },
  {
   "cell_type": "markdown",
   "id": "7a211650",
   "metadata": {},
   "source": [
    "### Attempt 2"
   ]
  },
  {
   "cell_type": "code",
   "execution_count": 20,
   "id": "c7c92d50",
   "metadata": {},
   "outputs": [
    {
     "data": {
      "text/plain": [
       "2"
      ]
     },
     "execution_count": 20,
     "metadata": {},
     "output_type": "execute_result"
    }
   ],
   "source": [
    "def record(a, mid, target, result):\n",
    "    if result is None:\n",
    "        result = mid\n",
    "    elif abs(a[mid] - target) < abs(a[result] - target):\n",
    "        result = mid\n",
    "    return result\n",
    "\n",
    "def binary_search(a, target):\n",
    "    start = 0\n",
    "    end = len(a) - 1\n",
    "    result = None\n",
    "    while start <= end:\n",
    "        mid = start + (end-start)//2\n",
    "        result = record(a, mid, target, result)\n",
    "        if a[mid] < target:\n",
    "            start = mid + 1\n",
    "        elif a[mid] > target:\n",
    "            end = mid - 1\n",
    "        else:\n",
    "            return mid\n",
    "    return result\n",
    "\n",
    "binary_search([2, 3, 5, 8, 9, 11], 4)"
   ]
  },
  {
   "cell_type": "code",
   "execution_count": null,
   "id": "575ebae4",
   "metadata": {},
   "outputs": [],
   "source": []
  }
 ],
 "metadata": {
  "kernelspec": {
   "display_name": "Python 3 (ipykernel)",
   "language": "python",
   "name": "python3"
  },
  "language_info": {
   "codemirror_mode": {
    "name": "ipython",
    "version": 3
   },
   "file_extension": ".py",
   "mimetype": "text/x-python",
   "name": "python",
   "nbconvert_exporter": "python",
   "pygments_lexer": "ipython3",
   "version": "3.8.10"
  }
 },
 "nbformat": 4,
 "nbformat_minor": 5
}
